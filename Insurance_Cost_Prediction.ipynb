{
  "nbformat": 4,
  "nbformat_minor": 0,
  "metadata": {
    "colab": {
      "provenance": [],
      "authorship_tag": "ABX9TyMs4B1vTMsYrwdudWjZcvCl",
      "include_colab_link": true
    },
    "kernelspec": {
      "name": "python3",
      "display_name": "Python 3"
    },
    "language_info": {
      "name": "python"
    }
  },
  "cells": [
    {
      "cell_type": "markdown",
      "metadata": {
        "id": "view-in-github",
        "colab_type": "text"
      },
      "source": [
        "<a href=\"https://colab.research.google.com/github/dhruv-bvpdev/Medical-Cost-Prediction/blob/main/Insurance_Cost_Prediction.ipynb\" target=\"_parent\"><img src=\"https://colab.research.google.com/assets/colab-badge.svg\" alt=\"Open In Colab\"/></a>"
      ]
    },
    {
      "cell_type": "code",
      "execution_count": 1,
      "metadata": {
        "id": "PEaKy26gQYi0"
      },
      "outputs": [],
      "source": [
        "import numpy as np\n",
        "import pandas as pd\n",
        "import tensorflow as tf\n",
        "tf.random.set_seed(3)\n",
        "from tensorflow import keras\n",
        "import matplotlib.pyplot as plt\n",
        "import seaborn as sns\n",
        "from sklearn.model_selection import train_test_split\n",
        "from sklearn.preprocessing import LabelEncoder\n",
        "from sklearn.preprocessing import StandardScaler\n",
        "from sklearn.model_selection import train_test_split"
      ]
    },
    {
      "cell_type": "code",
      "source": [
        "from google.colab import drive\n",
        "drive.mount('/gdrive')"
      ],
      "metadata": {
        "colab": {
          "base_uri": "https://localhost:8080/"
        },
        "id": "o5vdPOmeQwAc",
        "outputId": "a4bff28e-a163-463b-aa37-a38b29d6c0b6"
      },
      "execution_count": 2,
      "outputs": [
        {
          "output_type": "stream",
          "name": "stdout",
          "text": [
            "Mounted at /gdrive\n"
          ]
        }
      ]
    },
    {
      "cell_type": "code",
      "source": [
        "path = \"/gdrive/MyDrive/deeplearning/\""
      ],
      "metadata": {
        "id": "dI0CtV9MQx93"
      },
      "execution_count": 3,
      "outputs": []
    },
    {
      "cell_type": "code",
      "source": [
        "data = pd.read_csv(path + \"insurance.csv\")"
      ],
      "metadata": {
        "id": "7rumrSXLQ0hy"
      },
      "execution_count": 4,
      "outputs": []
    },
    {
      "cell_type": "markdown",
      "source": [
        "# DATA EXPLORATION"
      ],
      "metadata": {
        "id": "xsHPr0baSM1c"
      }
    },
    {
      "cell_type": "code",
      "source": [
        "data.head()"
      ],
      "metadata": {
        "colab": {
          "base_uri": "https://localhost:8080/",
          "height": 206
        },
        "id": "8jX2Y9ipRb_X",
        "outputId": "fd328e98-d432-4588-9842-4287bde68b00"
      },
      "execution_count": 5,
      "outputs": [
        {
          "output_type": "execute_result",
          "data": {
            "text/plain": [
              "   age     sex     bmi  children smoker     region      charges\n",
              "0   19  female  27.900         0    yes  southwest  16884.92400\n",
              "1   18    male  33.770         1     no  southeast   1725.55230\n",
              "2   28    male  33.000         3     no  southeast   4449.46200\n",
              "3   33    male  22.705         0     no  northwest  21984.47061\n",
              "4   32    male  28.880         0     no  northwest   3866.85520"
            ],
            "text/html": [
              "\n",
              "\n",
              "  <div id=\"df-64975f96-cd22-4983-92d6-562d1b563e9b\">\n",
              "    <div class=\"colab-df-container\">\n",
              "      <div>\n",
              "<style scoped>\n",
              "    .dataframe tbody tr th:only-of-type {\n",
              "        vertical-align: middle;\n",
              "    }\n",
              "\n",
              "    .dataframe tbody tr th {\n",
              "        vertical-align: top;\n",
              "    }\n",
              "\n",
              "    .dataframe thead th {\n",
              "        text-align: right;\n",
              "    }\n",
              "</style>\n",
              "<table border=\"1\" class=\"dataframe\">\n",
              "  <thead>\n",
              "    <tr style=\"text-align: right;\">\n",
              "      <th></th>\n",
              "      <th>age</th>\n",
              "      <th>sex</th>\n",
              "      <th>bmi</th>\n",
              "      <th>children</th>\n",
              "      <th>smoker</th>\n",
              "      <th>region</th>\n",
              "      <th>charges</th>\n",
              "    </tr>\n",
              "  </thead>\n",
              "  <tbody>\n",
              "    <tr>\n",
              "      <th>0</th>\n",
              "      <td>19</td>\n",
              "      <td>female</td>\n",
              "      <td>27.900</td>\n",
              "      <td>0</td>\n",
              "      <td>yes</td>\n",
              "      <td>southwest</td>\n",
              "      <td>16884.92400</td>\n",
              "    </tr>\n",
              "    <tr>\n",
              "      <th>1</th>\n",
              "      <td>18</td>\n",
              "      <td>male</td>\n",
              "      <td>33.770</td>\n",
              "      <td>1</td>\n",
              "      <td>no</td>\n",
              "      <td>southeast</td>\n",
              "      <td>1725.55230</td>\n",
              "    </tr>\n",
              "    <tr>\n",
              "      <th>2</th>\n",
              "      <td>28</td>\n",
              "      <td>male</td>\n",
              "      <td>33.000</td>\n",
              "      <td>3</td>\n",
              "      <td>no</td>\n",
              "      <td>southeast</td>\n",
              "      <td>4449.46200</td>\n",
              "    </tr>\n",
              "    <tr>\n",
              "      <th>3</th>\n",
              "      <td>33</td>\n",
              "      <td>male</td>\n",
              "      <td>22.705</td>\n",
              "      <td>0</td>\n",
              "      <td>no</td>\n",
              "      <td>northwest</td>\n",
              "      <td>21984.47061</td>\n",
              "    </tr>\n",
              "    <tr>\n",
              "      <th>4</th>\n",
              "      <td>32</td>\n",
              "      <td>male</td>\n",
              "      <td>28.880</td>\n",
              "      <td>0</td>\n",
              "      <td>no</td>\n",
              "      <td>northwest</td>\n",
              "      <td>3866.85520</td>\n",
              "    </tr>\n",
              "  </tbody>\n",
              "</table>\n",
              "</div>\n",
              "      <button class=\"colab-df-convert\" onclick=\"convertToInteractive('df-64975f96-cd22-4983-92d6-562d1b563e9b')\"\n",
              "              title=\"Convert this dataframe to an interactive table.\"\n",
              "              style=\"display:none;\">\n",
              "\n",
              "  <svg xmlns=\"http://www.w3.org/2000/svg\" height=\"24px\"viewBox=\"0 0 24 24\"\n",
              "       width=\"24px\">\n",
              "    <path d=\"M0 0h24v24H0V0z\" fill=\"none\"/>\n",
              "    <path d=\"M18.56 5.44l.94 2.06.94-2.06 2.06-.94-2.06-.94-.94-2.06-.94 2.06-2.06.94zm-11 1L8.5 8.5l.94-2.06 2.06-.94-2.06-.94L8.5 2.5l-.94 2.06-2.06.94zm10 10l.94 2.06.94-2.06 2.06-.94-2.06-.94-.94-2.06-.94 2.06-2.06.94z\"/><path d=\"M17.41 7.96l-1.37-1.37c-.4-.4-.92-.59-1.43-.59-.52 0-1.04.2-1.43.59L10.3 9.45l-7.72 7.72c-.78.78-.78 2.05 0 2.83L4 21.41c.39.39.9.59 1.41.59.51 0 1.02-.2 1.41-.59l7.78-7.78 2.81-2.81c.8-.78.8-2.07 0-2.86zM5.41 20L4 18.59l7.72-7.72 1.47 1.35L5.41 20z\"/>\n",
              "  </svg>\n",
              "      </button>\n",
              "\n",
              "\n",
              "\n",
              "    <div id=\"df-a12d9623-4e9d-4d65-b17b-cc7a468e43ea\">\n",
              "      <button class=\"colab-df-quickchart\" onclick=\"quickchart('df-a12d9623-4e9d-4d65-b17b-cc7a468e43ea')\"\n",
              "              title=\"Suggest charts.\"\n",
              "              style=\"display:none;\">\n",
              "\n",
              "<svg xmlns=\"http://www.w3.org/2000/svg\" height=\"24px\"viewBox=\"0 0 24 24\"\n",
              "     width=\"24px\">\n",
              "    <g>\n",
              "        <path d=\"M19 3H5c-1.1 0-2 .9-2 2v14c0 1.1.9 2 2 2h14c1.1 0 2-.9 2-2V5c0-1.1-.9-2-2-2zM9 17H7v-7h2v7zm4 0h-2V7h2v10zm4 0h-2v-4h2v4z\"/>\n",
              "    </g>\n",
              "</svg>\n",
              "      </button>\n",
              "    </div>\n",
              "\n",
              "<style>\n",
              "  .colab-df-quickchart {\n",
              "    background-color: #E8F0FE;\n",
              "    border: none;\n",
              "    border-radius: 50%;\n",
              "    cursor: pointer;\n",
              "    display: none;\n",
              "    fill: #1967D2;\n",
              "    height: 32px;\n",
              "    padding: 0 0 0 0;\n",
              "    width: 32px;\n",
              "  }\n",
              "\n",
              "  .colab-df-quickchart:hover {\n",
              "    background-color: #E2EBFA;\n",
              "    box-shadow: 0px 1px 2px rgba(60, 64, 67, 0.3), 0px 1px 3px 1px rgba(60, 64, 67, 0.15);\n",
              "    fill: #174EA6;\n",
              "  }\n",
              "\n",
              "  [theme=dark] .colab-df-quickchart {\n",
              "    background-color: #3B4455;\n",
              "    fill: #D2E3FC;\n",
              "  }\n",
              "\n",
              "  [theme=dark] .colab-df-quickchart:hover {\n",
              "    background-color: #434B5C;\n",
              "    box-shadow: 0px 1px 3px 1px rgba(0, 0, 0, 0.15);\n",
              "    filter: drop-shadow(0px 1px 2px rgba(0, 0, 0, 0.3));\n",
              "    fill: #FFFFFF;\n",
              "  }\n",
              "</style>\n",
              "\n",
              "    <script>\n",
              "      async function quickchart(key) {\n",
              "        const containerElement = document.querySelector('#' + key);\n",
              "        const charts = await google.colab.kernel.invokeFunction(\n",
              "            'suggestCharts', [key], {});\n",
              "      }\n",
              "    </script>\n",
              "\n",
              "      <script>\n",
              "\n",
              "function displayQuickchartButton(domScope) {\n",
              "  let quickchartButtonEl =\n",
              "    domScope.querySelector('#df-a12d9623-4e9d-4d65-b17b-cc7a468e43ea button.colab-df-quickchart');\n",
              "  quickchartButtonEl.style.display =\n",
              "    google.colab.kernel.accessAllowed ? 'block' : 'none';\n",
              "}\n",
              "\n",
              "        displayQuickchartButton(document);\n",
              "      </script>\n",
              "      <style>\n",
              "    .colab-df-container {\n",
              "      display:flex;\n",
              "      flex-wrap:wrap;\n",
              "      gap: 12px;\n",
              "    }\n",
              "\n",
              "    .colab-df-convert {\n",
              "      background-color: #E8F0FE;\n",
              "      border: none;\n",
              "      border-radius: 50%;\n",
              "      cursor: pointer;\n",
              "      display: none;\n",
              "      fill: #1967D2;\n",
              "      height: 32px;\n",
              "      padding: 0 0 0 0;\n",
              "      width: 32px;\n",
              "    }\n",
              "\n",
              "    .colab-df-convert:hover {\n",
              "      background-color: #E2EBFA;\n",
              "      box-shadow: 0px 1px 2px rgba(60, 64, 67, 0.3), 0px 1px 3px 1px rgba(60, 64, 67, 0.15);\n",
              "      fill: #174EA6;\n",
              "    }\n",
              "\n",
              "    [theme=dark] .colab-df-convert {\n",
              "      background-color: #3B4455;\n",
              "      fill: #D2E3FC;\n",
              "    }\n",
              "\n",
              "    [theme=dark] .colab-df-convert:hover {\n",
              "      background-color: #434B5C;\n",
              "      box-shadow: 0px 1px 3px 1px rgba(0, 0, 0, 0.15);\n",
              "      filter: drop-shadow(0px 1px 2px rgba(0, 0, 0, 0.3));\n",
              "      fill: #FFFFFF;\n",
              "    }\n",
              "  </style>\n",
              "\n",
              "      <script>\n",
              "        const buttonEl =\n",
              "          document.querySelector('#df-64975f96-cd22-4983-92d6-562d1b563e9b button.colab-df-convert');\n",
              "        buttonEl.style.display =\n",
              "          google.colab.kernel.accessAllowed ? 'block' : 'none';\n",
              "\n",
              "        async function convertToInteractive(key) {\n",
              "          const element = document.querySelector('#df-64975f96-cd22-4983-92d6-562d1b563e9b');\n",
              "          const dataTable =\n",
              "            await google.colab.kernel.invokeFunction('convertToInteractive',\n",
              "                                                     [key], {});\n",
              "          if (!dataTable) return;\n",
              "\n",
              "          const docLinkHtml = 'Like what you see? Visit the ' +\n",
              "            '<a target=\"_blank\" href=https://colab.research.google.com/notebooks/data_table.ipynb>data table notebook</a>'\n",
              "            + ' to learn more about interactive tables.';\n",
              "          element.innerHTML = '';\n",
              "          dataTable['output_type'] = 'display_data';\n",
              "          await google.colab.output.renderOutput(dataTable, element);\n",
              "          const docLink = document.createElement('div');\n",
              "          docLink.innerHTML = docLinkHtml;\n",
              "          element.appendChild(docLink);\n",
              "        }\n",
              "      </script>\n",
              "    </div>\n",
              "  </div>\n"
            ]
          },
          "metadata": {},
          "execution_count": 5
        }
      ]
    },
    {
      "cell_type": "code",
      "source": [
        "data.shape"
      ],
      "metadata": {
        "colab": {
          "base_uri": "https://localhost:8080/"
        },
        "id": "Cp_Q7OKZRgFw",
        "outputId": "41bc1b0a-2961-4540-a7be-d3932fd2ea3f"
      },
      "execution_count": 6,
      "outputs": [
        {
          "output_type": "execute_result",
          "data": {
            "text/plain": [
              "(1338, 7)"
            ]
          },
          "metadata": {},
          "execution_count": 6
        }
      ]
    },
    {
      "cell_type": "code",
      "source": [
        "data.info()"
      ],
      "metadata": {
        "colab": {
          "base_uri": "https://localhost:8080/"
        },
        "id": "cC1tHBgYRiay",
        "outputId": "b910be8e-1cc4-4f4a-e612-e115b8e9de2c"
      },
      "execution_count": 7,
      "outputs": [
        {
          "output_type": "stream",
          "name": "stdout",
          "text": [
            "<class 'pandas.core.frame.DataFrame'>\n",
            "RangeIndex: 1338 entries, 0 to 1337\n",
            "Data columns (total 7 columns):\n",
            " #   Column    Non-Null Count  Dtype  \n",
            "---  ------    --------------  -----  \n",
            " 0   age       1338 non-null   int64  \n",
            " 1   sex       1338 non-null   object \n",
            " 2   bmi       1338 non-null   float64\n",
            " 3   children  1338 non-null   int64  \n",
            " 4   smoker    1338 non-null   object \n",
            " 5   region    1338 non-null   object \n",
            " 6   charges   1338 non-null   float64\n",
            "dtypes: float64(2), int64(2), object(3)\n",
            "memory usage: 73.3+ KB\n"
          ]
        }
      ]
    },
    {
      "cell_type": "code",
      "source": [
        "data.isnull().sum()"
      ],
      "metadata": {
        "colab": {
          "base_uri": "https://localhost:8080/"
        },
        "id": "Fz_se3ICRpSG",
        "outputId": "d55103e1-93a9-4adb-aaae-de1502f7c071"
      },
      "execution_count": 8,
      "outputs": [
        {
          "output_type": "execute_result",
          "data": {
            "text/plain": [
              "age         0\n",
              "sex         0\n",
              "bmi         0\n",
              "children    0\n",
              "smoker      0\n",
              "region      0\n",
              "charges     0\n",
              "dtype: int64"
            ]
          },
          "metadata": {},
          "execution_count": 8
        }
      ]
    },
    {
      "cell_type": "code",
      "source": [
        "data.describe()"
      ],
      "metadata": {
        "colab": {
          "base_uri": "https://localhost:8080/",
          "height": 300
        },
        "id": "iCLDzGPCRryw",
        "outputId": "60a982f2-eccf-4e5e-f5bd-2f89f4a35a5f"
      },
      "execution_count": 9,
      "outputs": [
        {
          "output_type": "execute_result",
          "data": {
            "text/plain": [
              "               age          bmi     children       charges\n",
              "count  1338.000000  1338.000000  1338.000000   1338.000000\n",
              "mean     39.207025    30.663397     1.094918  13270.422265\n",
              "std      14.049960     6.098187     1.205493  12110.011237\n",
              "min      18.000000    15.960000     0.000000   1121.873900\n",
              "25%      27.000000    26.296250     0.000000   4740.287150\n",
              "50%      39.000000    30.400000     1.000000   9382.033000\n",
              "75%      51.000000    34.693750     2.000000  16639.912515\n",
              "max      64.000000    53.130000     5.000000  63770.428010"
            ],
            "text/html": [
              "\n",
              "\n",
              "  <div id=\"df-80882476-bf5a-4e01-aaa8-2ee8e000051b\">\n",
              "    <div class=\"colab-df-container\">\n",
              "      <div>\n",
              "<style scoped>\n",
              "    .dataframe tbody tr th:only-of-type {\n",
              "        vertical-align: middle;\n",
              "    }\n",
              "\n",
              "    .dataframe tbody tr th {\n",
              "        vertical-align: top;\n",
              "    }\n",
              "\n",
              "    .dataframe thead th {\n",
              "        text-align: right;\n",
              "    }\n",
              "</style>\n",
              "<table border=\"1\" class=\"dataframe\">\n",
              "  <thead>\n",
              "    <tr style=\"text-align: right;\">\n",
              "      <th></th>\n",
              "      <th>age</th>\n",
              "      <th>bmi</th>\n",
              "      <th>children</th>\n",
              "      <th>charges</th>\n",
              "    </tr>\n",
              "  </thead>\n",
              "  <tbody>\n",
              "    <tr>\n",
              "      <th>count</th>\n",
              "      <td>1338.000000</td>\n",
              "      <td>1338.000000</td>\n",
              "      <td>1338.000000</td>\n",
              "      <td>1338.000000</td>\n",
              "    </tr>\n",
              "    <tr>\n",
              "      <th>mean</th>\n",
              "      <td>39.207025</td>\n",
              "      <td>30.663397</td>\n",
              "      <td>1.094918</td>\n",
              "      <td>13270.422265</td>\n",
              "    </tr>\n",
              "    <tr>\n",
              "      <th>std</th>\n",
              "      <td>14.049960</td>\n",
              "      <td>6.098187</td>\n",
              "      <td>1.205493</td>\n",
              "      <td>12110.011237</td>\n",
              "    </tr>\n",
              "    <tr>\n",
              "      <th>min</th>\n",
              "      <td>18.000000</td>\n",
              "      <td>15.960000</td>\n",
              "      <td>0.000000</td>\n",
              "      <td>1121.873900</td>\n",
              "    </tr>\n",
              "    <tr>\n",
              "      <th>25%</th>\n",
              "      <td>27.000000</td>\n",
              "      <td>26.296250</td>\n",
              "      <td>0.000000</td>\n",
              "      <td>4740.287150</td>\n",
              "    </tr>\n",
              "    <tr>\n",
              "      <th>50%</th>\n",
              "      <td>39.000000</td>\n",
              "      <td>30.400000</td>\n",
              "      <td>1.000000</td>\n",
              "      <td>9382.033000</td>\n",
              "    </tr>\n",
              "    <tr>\n",
              "      <th>75%</th>\n",
              "      <td>51.000000</td>\n",
              "      <td>34.693750</td>\n",
              "      <td>2.000000</td>\n",
              "      <td>16639.912515</td>\n",
              "    </tr>\n",
              "    <tr>\n",
              "      <th>max</th>\n",
              "      <td>64.000000</td>\n",
              "      <td>53.130000</td>\n",
              "      <td>5.000000</td>\n",
              "      <td>63770.428010</td>\n",
              "    </tr>\n",
              "  </tbody>\n",
              "</table>\n",
              "</div>\n",
              "      <button class=\"colab-df-convert\" onclick=\"convertToInteractive('df-80882476-bf5a-4e01-aaa8-2ee8e000051b')\"\n",
              "              title=\"Convert this dataframe to an interactive table.\"\n",
              "              style=\"display:none;\">\n",
              "\n",
              "  <svg xmlns=\"http://www.w3.org/2000/svg\" height=\"24px\"viewBox=\"0 0 24 24\"\n",
              "       width=\"24px\">\n",
              "    <path d=\"M0 0h24v24H0V0z\" fill=\"none\"/>\n",
              "    <path d=\"M18.56 5.44l.94 2.06.94-2.06 2.06-.94-2.06-.94-.94-2.06-.94 2.06-2.06.94zm-11 1L8.5 8.5l.94-2.06 2.06-.94-2.06-.94L8.5 2.5l-.94 2.06-2.06.94zm10 10l.94 2.06.94-2.06 2.06-.94-2.06-.94-.94-2.06-.94 2.06-2.06.94z\"/><path d=\"M17.41 7.96l-1.37-1.37c-.4-.4-.92-.59-1.43-.59-.52 0-1.04.2-1.43.59L10.3 9.45l-7.72 7.72c-.78.78-.78 2.05 0 2.83L4 21.41c.39.39.9.59 1.41.59.51 0 1.02-.2 1.41-.59l7.78-7.78 2.81-2.81c.8-.78.8-2.07 0-2.86zM5.41 20L4 18.59l7.72-7.72 1.47 1.35L5.41 20z\"/>\n",
              "  </svg>\n",
              "      </button>\n",
              "\n",
              "\n",
              "\n",
              "    <div id=\"df-9bd6f067-760b-4bf2-8532-941a5cb60676\">\n",
              "      <button class=\"colab-df-quickchart\" onclick=\"quickchart('df-9bd6f067-760b-4bf2-8532-941a5cb60676')\"\n",
              "              title=\"Suggest charts.\"\n",
              "              style=\"display:none;\">\n",
              "\n",
              "<svg xmlns=\"http://www.w3.org/2000/svg\" height=\"24px\"viewBox=\"0 0 24 24\"\n",
              "     width=\"24px\">\n",
              "    <g>\n",
              "        <path d=\"M19 3H5c-1.1 0-2 .9-2 2v14c0 1.1.9 2 2 2h14c1.1 0 2-.9 2-2V5c0-1.1-.9-2-2-2zM9 17H7v-7h2v7zm4 0h-2V7h2v10zm4 0h-2v-4h2v4z\"/>\n",
              "    </g>\n",
              "</svg>\n",
              "      </button>\n",
              "    </div>\n",
              "\n",
              "<style>\n",
              "  .colab-df-quickchart {\n",
              "    background-color: #E8F0FE;\n",
              "    border: none;\n",
              "    border-radius: 50%;\n",
              "    cursor: pointer;\n",
              "    display: none;\n",
              "    fill: #1967D2;\n",
              "    height: 32px;\n",
              "    padding: 0 0 0 0;\n",
              "    width: 32px;\n",
              "  }\n",
              "\n",
              "  .colab-df-quickchart:hover {\n",
              "    background-color: #E2EBFA;\n",
              "    box-shadow: 0px 1px 2px rgba(60, 64, 67, 0.3), 0px 1px 3px 1px rgba(60, 64, 67, 0.15);\n",
              "    fill: #174EA6;\n",
              "  }\n",
              "\n",
              "  [theme=dark] .colab-df-quickchart {\n",
              "    background-color: #3B4455;\n",
              "    fill: #D2E3FC;\n",
              "  }\n",
              "\n",
              "  [theme=dark] .colab-df-quickchart:hover {\n",
              "    background-color: #434B5C;\n",
              "    box-shadow: 0px 1px 3px 1px rgba(0, 0, 0, 0.15);\n",
              "    filter: drop-shadow(0px 1px 2px rgba(0, 0, 0, 0.3));\n",
              "    fill: #FFFFFF;\n",
              "  }\n",
              "</style>\n",
              "\n",
              "    <script>\n",
              "      async function quickchart(key) {\n",
              "        const containerElement = document.querySelector('#' + key);\n",
              "        const charts = await google.colab.kernel.invokeFunction(\n",
              "            'suggestCharts', [key], {});\n",
              "      }\n",
              "    </script>\n",
              "\n",
              "      <script>\n",
              "\n",
              "function displayQuickchartButton(domScope) {\n",
              "  let quickchartButtonEl =\n",
              "    domScope.querySelector('#df-9bd6f067-760b-4bf2-8532-941a5cb60676 button.colab-df-quickchart');\n",
              "  quickchartButtonEl.style.display =\n",
              "    google.colab.kernel.accessAllowed ? 'block' : 'none';\n",
              "}\n",
              "\n",
              "        displayQuickchartButton(document);\n",
              "      </script>\n",
              "      <style>\n",
              "    .colab-df-container {\n",
              "      display:flex;\n",
              "      flex-wrap:wrap;\n",
              "      gap: 12px;\n",
              "    }\n",
              "\n",
              "    .colab-df-convert {\n",
              "      background-color: #E8F0FE;\n",
              "      border: none;\n",
              "      border-radius: 50%;\n",
              "      cursor: pointer;\n",
              "      display: none;\n",
              "      fill: #1967D2;\n",
              "      height: 32px;\n",
              "      padding: 0 0 0 0;\n",
              "      width: 32px;\n",
              "    }\n",
              "\n",
              "    .colab-df-convert:hover {\n",
              "      background-color: #E2EBFA;\n",
              "      box-shadow: 0px 1px 2px rgba(60, 64, 67, 0.3), 0px 1px 3px 1px rgba(60, 64, 67, 0.15);\n",
              "      fill: #174EA6;\n",
              "    }\n",
              "\n",
              "    [theme=dark] .colab-df-convert {\n",
              "      background-color: #3B4455;\n",
              "      fill: #D2E3FC;\n",
              "    }\n",
              "\n",
              "    [theme=dark] .colab-df-convert:hover {\n",
              "      background-color: #434B5C;\n",
              "      box-shadow: 0px 1px 3px 1px rgba(0, 0, 0, 0.15);\n",
              "      filter: drop-shadow(0px 1px 2px rgba(0, 0, 0, 0.3));\n",
              "      fill: #FFFFFF;\n",
              "    }\n",
              "  </style>\n",
              "\n",
              "      <script>\n",
              "        const buttonEl =\n",
              "          document.querySelector('#df-80882476-bf5a-4e01-aaa8-2ee8e000051b button.colab-df-convert');\n",
              "        buttonEl.style.display =\n",
              "          google.colab.kernel.accessAllowed ? 'block' : 'none';\n",
              "\n",
              "        async function convertToInteractive(key) {\n",
              "          const element = document.querySelector('#df-80882476-bf5a-4e01-aaa8-2ee8e000051b');\n",
              "          const dataTable =\n",
              "            await google.colab.kernel.invokeFunction('convertToInteractive',\n",
              "                                                     [key], {});\n",
              "          if (!dataTable) return;\n",
              "\n",
              "          const docLinkHtml = 'Like what you see? Visit the ' +\n",
              "            '<a target=\"_blank\" href=https://colab.research.google.com/notebooks/data_table.ipynb>data table notebook</a>'\n",
              "            + ' to learn more about interactive tables.';\n",
              "          element.innerHTML = '';\n",
              "          dataTable['output_type'] = 'display_data';\n",
              "          await google.colab.output.renderOutput(dataTable, element);\n",
              "          const docLink = document.createElement('div');\n",
              "          docLink.innerHTML = docLinkHtml;\n",
              "          element.appendChild(docLink);\n",
              "        }\n",
              "      </script>\n",
              "    </div>\n",
              "  </div>\n"
            ]
          },
          "metadata": {},
          "execution_count": 9
        }
      ]
    },
    {
      "cell_type": "markdown",
      "source": [
        "# DATA VISUALIZATION"
      ],
      "metadata": {
        "id": "Q0dk3K_TTosW"
      }
    },
    {
      "cell_type": "code",
      "source": [
        "# Distribution of age value\n",
        "sns.set()\n",
        "plt.figure(figsize=(6,6))\n",
        "sns.displot(data['age'])\n",
        "plt.title('Age Distribution')\n",
        "plt.show()"
      ],
      "metadata": {
        "colab": {
          "base_uri": "https://localhost:8080/",
          "height": 540
        },
        "id": "sJRIrPiPTsEK",
        "outputId": "386528c2-ea7a-4920-da93-f3fc290be593"
      },
      "execution_count": 10,
      "outputs": [
        {
          "output_type": "display_data",
          "data": {
            "text/plain": [
              "<Figure size 600x600 with 0 Axes>"
            ]
          },
          "metadata": {}
        },
        {
          "output_type": "display_data",
          "data": {
            "text/plain": [
              "<Figure size 500x500 with 1 Axes>"
            ],
            "image/png": "[encoded data removed]"
          },
          "metadata": {}
        }
      ]
    },
    {
      "cell_type": "code",
      "source": [
        "# Count Plot for Gender Column\n",
        "plt.figure(figsize=(6,6))\n",
        "sns.countplot(x='sex', data=data)\n",
        "plt.title('Sex Distribution')\n",
        "plt.show()"
      ],
      "metadata": {
        "colab": {
          "base_uri": "https://localhost:8080/",
          "height": 573
        },
        "id": "ELi4R788T19A",
        "outputId": "253fff4c-d8c5-422f-d04f-0e2c656441ec"
      },
      "execution_count": 11,
      "outputs": [
        {
          "output_type": "display_data",
          "data": {
            "text/plain": [
              "<Figure size 600x600 with 1 Axes>"
            ],
            "image/png": "[encoded data removed]"
          },
          "metadata": {}
        }
      ]
    },
    {
      "cell_type": "code",
      "source": [
        "# Distribution of BMI value\n",
        "plt.figure(figsize=(6,6))\n",
        "sns.displot(data['bmi'])\n",
        "plt.title('BMI Distribution')\n",
        "plt.show()"
      ],
      "metadata": {
        "colab": {
          "base_uri": "https://localhost:8080/",
          "height": 540
        },
        "id": "-zuWx1rYUAjN",
        "outputId": "00e42e36-232b-4b59-d12a-67aac669cce7"
      },
      "execution_count": 12,
      "outputs": [
        {
          "output_type": "display_data",
          "data": {
            "text/plain": [
              "<Figure size 600x600 with 0 Axes>"
            ]
          },
          "metadata": {}
        },
        {
          "output_type": "display_data",
          "data": {
            "text/plain": [
              "<Figure size 500x500 with 1 Axes>"
            ],
            "image/png": "[encoded data removed]"
          },
          "metadata": {}
        }
      ]
    },
    {
      "cell_type": "code",
      "source": [
        "# Count Plot for Children Column\n",
        "plt.figure(figsize=(6,6))\n",
        "sns.countplot(x='children', data=data)\n",
        "plt.title('Children')\n",
        "plt.show()"
      ],
      "metadata": {
        "colab": {
          "base_uri": "https://localhost:8080/",
          "height": 573
        },
        "id": "O-Q8T9h8V66e",
        "outputId": "699912e4-c143-44b8-df98-fd0e1b0c9c2a"
      },
      "execution_count": 13,
      "outputs": [
        {
          "output_type": "display_data",
          "data": {
            "text/plain": [
              "<Figure size 600x600 with 1 Axes>"
            ],
            "image/png": "[encoded data removed]"
          },
          "metadata": {}
        }
      ]
    },
    {
      "cell_type": "code",
      "source": [
        "# Count Plot for Smoker Column\n",
        "plt.figure(figsize=(6,6))\n",
        "sns.countplot(x='smoker', data=data)\n",
        "plt.title('smoker')\n",
        "plt.show()"
      ],
      "metadata": {
        "colab": {
          "base_uri": "https://localhost:8080/",
          "height": 573
        },
        "id": "Rct3j2URWGL1",
        "outputId": "523ff3b4-e211-4231-b96f-914f8e32aa7b"
      },
      "execution_count": 14,
      "outputs": [
        {
          "output_type": "display_data",
          "data": {
            "text/plain": [
              "<Figure size 600x600 with 1 Axes>"
            ],
            "image/png": "[encoded data removed]"
          },
          "metadata": {}
        }
      ]
    },
    {
      "cell_type": "code",
      "source": [
        "# Count Plot for Region Column\n",
        "plt.figure(figsize=(6,6))\n",
        "sns.countplot(x='region', data=data)\n",
        "plt.title('region')\n",
        "plt.show()"
      ],
      "metadata": {
        "colab": {
          "base_uri": "https://localhost:8080/",
          "height": 573
        },
        "id": "KoHk4xdnWO_V",
        "outputId": "94c0d0cb-f369-4bcd-bc2b-ff35df75191c"
      },
      "execution_count": 15,
      "outputs": [
        {
          "output_type": "display_data",
          "data": {
            "text/plain": [
              "<Figure size 600x600 with 1 Axes>"
            ],
            "image/png": "[encoded data removed]"
          },
          "metadata": {}
        }
      ]
    },
    {
      "cell_type": "code",
      "source": [
        "# Distribution of charges value\n",
        "plt.figure(figsize=(6,6))\n",
        "sns.displot(data['charges'])\n",
        "plt.title('Charges Distribution')\n",
        "plt.show()"
      ],
      "metadata": {
        "colab": {
          "base_uri": "https://localhost:8080/",
          "height": 540
        },
        "id": "fQydmsbuUfNy",
        "outputId": "ad87ba4f-f286-46e1-9864-3a5cdf484053"
      },
      "execution_count": 16,
      "outputs": [
        {
          "output_type": "display_data",
          "data": {
            "text/plain": [
              "<Figure size 600x600 with 0 Axes>"
            ]
          },
          "metadata": {}
        },
        {
          "output_type": "display_data",
          "data": {
            "text/plain": [
              "<Figure size 500x500 with 1 Axes>"
            ],
            "image/png": "[encoded data removed]"
          },
          "metadata": {}
        }
      ]
    },
    {
      "cell_type": "markdown",
      "source": [
        "# DATA PRE-PROCESSING"
      ],
      "metadata": {
        "id": "ER6uF9AkWepn"
      }
    },
    {
      "cell_type": "code",
      "source": [
        "# Encoding the categorical columns\n",
        "data.replace({'sex':{'male':0,'female':1}}, inplace=True)\n",
        "data.replace({'smoker':{'yes':0,'no':1}}, inplace=True)\n",
        "data.replace({'region':{'southeast':0,'southwest':1,'northeast':2,'northwest':3}}, inplace=True)"
      ],
      "metadata": {
        "id": "UCmDiJAmUt39"
      },
      "execution_count": 17,
      "outputs": []
    },
    {
      "cell_type": "markdown",
      "source": [
        "# MODEL BUILDING"
      ],
      "metadata": {
        "id": "N3o6mKbsW0KC"
      }
    },
    {
      "cell_type": "code",
      "source": [
        "X = data.drop(columns='charges', axis=1)\n",
        "Y = data['charges']"
      ],
      "metadata": {
        "id": "HKkqunoxW2Il"
      },
      "execution_count": 18,
      "outputs": []
    },
    {
      "cell_type": "code",
      "source": [
        "print(X)"
      ],
      "metadata": {
        "colab": {
          "base_uri": "https://localhost:8080/"
        },
        "id": "XHmGHhNkW5eK",
        "outputId": "e5e46afe-f974-4e1b-934c-a16d63849c82"
      },
      "execution_count": 19,
      "outputs": [
        {
          "output_type": "stream",
          "name": "stdout",
          "text": [
            "      age  sex     bmi  children  smoker  region\n",
            "0      19    1  27.900         0       0       1\n",
            "1      18    0  33.770         1       1       0\n",
            "2      28    0  33.000         3       1       0\n",
            "3      33    0  22.705         0       1       3\n",
            "4      32    0  28.880         0       1       3\n",
            "...   ...  ...     ...       ...     ...     ...\n",
            "1333   50    0  30.970         3       1       3\n",
            "1334   18    1  31.920         0       1       2\n",
            "1335   18    1  36.850         0       1       0\n",
            "1336   21    1  25.800         0       1       1\n",
            "1337   61    1  29.070         0       0       3\n",
            "\n",
            "[1338 rows x 6 columns]\n"
          ]
        }
      ]
    },
    {
      "cell_type": "code",
      "source": [
        "print(Y)"
      ],
      "metadata": {
        "colab": {
          "base_uri": "https://localhost:8080/"
        },
        "id": "qyg4HO6RXAv1",
        "outputId": "9920b18f-65d9-4e3b-91fa-4fa4ec9d4e6c"
      },
      "execution_count": 20,
      "outputs": [
        {
          "output_type": "stream",
          "name": "stdout",
          "text": [
            "0       16884.92400\n",
            "1        1725.55230\n",
            "2        4449.46200\n",
            "3       21984.47061\n",
            "4        3866.85520\n",
            "           ...     \n",
            "1333    10600.54830\n",
            "1334     2205.98080\n",
            "1335     1629.83350\n",
            "1336     2007.94500\n",
            "1337    29141.36030\n",
            "Name: charges, Length: 1338, dtype: float64\n"
          ]
        }
      ]
    },
    {
      "cell_type": "code",
      "source": [
        "X_train, X_test, Y_train, Y_test = train_test_split(X, Y, test_size = 0.2, random_state = 2)"
      ],
      "metadata": {
        "id": "QretF4cNXEFi"
      },
      "execution_count": 21,
      "outputs": []
    },
    {
      "cell_type": "code",
      "source": [
        "print(X.shape, X_train.shape, X_test.shape)"
      ],
      "metadata": {
        "colab": {
          "base_uri": "https://localhost:8080/"
        },
        "id": "EXt-slFFXV2K",
        "outputId": "4760bd24-c1e4-430d-e361-6edafbd6ff33"
      },
      "execution_count": 22,
      "outputs": [
        {
          "output_type": "stream",
          "name": "stdout",
          "text": [
            "(1338, 6) (1070, 6) (268, 6)\n"
          ]
        }
      ]
    },
    {
      "cell_type": "code",
      "source": [
        "model = keras.Sequential()"
      ],
      "metadata": {
        "id": "-kKa6eETXcva"
      },
      "execution_count": 23,
      "outputs": []
    },
    {
      "cell_type": "code",
      "source": [
        "model.add( tf.keras.layers.Input(shape = (6,) ))"
      ],
      "metadata": {
        "id": "Fqm7mSpqXgPn"
      },
      "execution_count": 24,
      "outputs": []
    },
    {
      "cell_type": "code",
      "source": [
        "model.add(tf.keras.layers.Dense(49, activation = 'relu'))"
      ],
      "metadata": {
        "id": "si6bLEFuX71v"
      },
      "execution_count": 25,
      "outputs": []
    },
    {
      "cell_type": "code",
      "source": [
        "model.add(tf.keras.layers.Dense(63, activation = 'relu'))\n",
        "# model.add(tf.keras.layers.Dropout(rate = 0.5 ))"
      ],
      "metadata": {
        "id": "dMTIc-8_ewdK"
      },
      "execution_count": 26,
      "outputs": []
    },
    {
      "cell_type": "code",
      "source": [
        "model.add(tf.keras.layers.Dense(56, activation = 'relu'))\n",
        "# model.add(tf.keras.layers.Dropout(rate = 0.5 ))"
      ],
      "metadata": {
        "id": "jWqNvearYVxl"
      },
      "execution_count": 27,
      "outputs": []
    },
    {
      "cell_type": "code",
      "source": [
        "model.add(tf.keras.layers.Dense(28, activation = 'relu'))"
      ],
      "metadata": {
        "id": "vmEKUJMkY4rG"
      },
      "execution_count": 28,
      "outputs": []
    },
    {
      "cell_type": "code",
      "source": [
        "model.add(tf.keras.layers.Dense(14, activation = 'relu'))"
      ],
      "metadata": {
        "id": "mHRomYJSe3-5"
      },
      "execution_count": 29,
      "outputs": []
    },
    {
      "cell_type": "code",
      "source": [
        "model.add(tf.keras.layers.Dense(1))"
      ],
      "metadata": {
        "id": "Xoh7m_FdY6o-"
      },
      "execution_count": 30,
      "outputs": []
    },
    {
      "cell_type": "code",
      "source": [
        "model.summary()"
      ],
      "metadata": {
        "colab": {
          "base_uri": "https://localhost:8080/"
        },
        "id": "yZUQDVArZBIg",
        "outputId": "fb5ea2cd-4a21-4223-8c58-2203ee5518a0"
      },
      "execution_count": 31,
      "outputs": [
        {
          "output_type": "stream",
          "name": "stdout",
          "text": [
            "Model: \"sequential\"\n",
            "_________________________________________________________________\n",
            " Layer (type)                Output Shape              Param #   \n",
            "=================================================================\n",
            " dense (Dense)               (None, 49)                343       \n",
            "                                                                 \n",
            " dense_1 (Dense)             (None, 63)                3150      \n",
            "                                                                 \n",
            " dense_2 (Dense)             (None, 56)                3584      \n",
            "                                                                 \n",
            " dense_3 (Dense)             (None, 28)                1596      \n",
            "                                                                 \n",
            " dense_4 (Dense)             (None, 14)                406       \n",
            "                                                                 \n",
            " dense_5 (Dense)             (None, 1)                 15        \n",
            "                                                                 \n",
            "=================================================================\n",
            "Total params: 9,094\n",
            "Trainable params: 9,094\n",
            "Non-trainable params: 0\n",
            "_________________________________________________________________\n"
          ]
        }
      ]
    },
    {
      "cell_type": "code",
      "source": [
        "model.compile(\n",
        "    optimizer = 'adam',\n",
        "    loss = 'mae',\n",
        "    metrics = ['mae']\n",
        ")"
      ],
      "metadata": {
        "id": "YIp_WH_8ZGGD"
      },
      "execution_count": 32,
      "outputs": []
    },
    {
      "cell_type": "code",
      "source": [
        "history = model.fit(X_train, Y_train, epochs=150, validation_data = (X_test, Y_test))"
      ],
      "metadata": {
        "colab": {
          "base_uri": "https://localhost:8080/"
        },
        "id": "W_z11omeZbQZ",
        "outputId": "4fa0c417-fc33-42c5-da0f-7ad41a5590f0"
      },
      "execution_count": 33,
      "outputs": [
        {
          "output_type": "stream",
          "name": "stdout",
          "text": [
            "Epoch 1/150\n",
            "34/34 [==============================] - 2s 11ms/step - loss: 13358.1387 - mae: 13358.1387 - val_loss: 12793.1260 - val_mae: 12793.1260\n",
            "Epoch 2/150\n",
            "34/34 [==============================] - 0s 4ms/step - loss: 13069.5537 - mae: 13069.5537 - val_loss: 11924.5312 - val_mae: 11924.5312\n",
            "Epoch 3/150\n",
            "34/34 [==============================] - 0s 4ms/step - loss: 10181.1924 - mae: 10181.1924 - val_loss: 7679.5747 - val_mae: 7679.5747\n",
            "Epoch 4/150\n",
            "34/34 [==============================] - 0s 3ms/step - loss: 7674.9326 - mae: 7674.9326 - val_loss: 7605.1509 - val_mae: 7605.1509\n",
            "Epoch 5/150\n",
            "34/34 [==============================] - 0s 4ms/step - loss: 7559.5864 - mae: 7559.5864 - val_loss: 7468.5215 - val_mae: 7468.5215\n",
            "Epoch 6/150\n",
            "34/34 [==============================] - 0s 3ms/step - loss: 7431.4272 - mae: 7431.4272 - val_loss: 7369.2539 - val_mae: 7369.2539\n",
            "Epoch 7/150\n",
            "34/34 [==============================] - 0s 4ms/step - loss: 7351.4053 - mae: 7351.4053 - val_loss: 7263.7456 - val_mae: 7263.7456\n",
            "Epoch 8/150\n",
            "34/34 [==============================] - 0s 4ms/step - loss: 7276.3022 - mae: 7276.3022 - val_loss: 7159.0776 - val_mae: 7159.0776\n",
            "Epoch 9/150\n",
            "34/34 [==============================] - 0s 4ms/step - loss: 7177.8345 - mae: 7177.8345 - val_loss: 7031.6973 - val_mae: 7031.6973\n",
            "Epoch 10/150\n",
            "34/34 [==============================] - 0s 4ms/step - loss: 7063.7012 - mae: 7063.7012 - val_loss: 6882.1641 - val_mae: 6882.1641\n",
            "Epoch 11/150\n",
            "34/34 [==============================] - 0s 4ms/step - loss: 6950.4126 - mae: 6950.4126 - val_loss: 6764.0586 - val_mae: 6764.0586\n",
            "Epoch 12/150\n",
            "34/34 [==============================] - 0s 5ms/step - loss: 6833.8262 - mae: 6833.8262 - val_loss: 6601.7251 - val_mae: 6601.7251\n",
            "Epoch 13/150\n",
            "34/34 [==============================] - 0s 4ms/step - loss: 6761.2505 - mae: 6761.2505 - val_loss: 6517.4492 - val_mae: 6517.4492\n",
            "Epoch 14/150\n",
            "34/34 [==============================] - 0s 4ms/step - loss: 6723.9258 - mae: 6723.9258 - val_loss: 6496.6968 - val_mae: 6496.6968\n",
            "Epoch 15/150\n",
            "34/34 [==============================] - 0s 4ms/step - loss: 6698.5117 - mae: 6698.5117 - val_loss: 6479.0752 - val_mae: 6479.0752\n",
            "Epoch 16/150\n",
            "34/34 [==============================] - 0s 4ms/step - loss: 6694.2012 - mae: 6694.2012 - val_loss: 6462.5435 - val_mae: 6462.5435\n",
            "Epoch 17/150\n",
            "34/34 [==============================] - 0s 4ms/step - loss: 6666.8154 - mae: 6666.8154 - val_loss: 6449.0317 - val_mae: 6449.0317\n",
            "Epoch 18/150\n",
            "34/34 [==============================] - 0s 4ms/step - loss: 6654.1670 - mae: 6654.1670 - val_loss: 6435.8936 - val_mae: 6435.8936\n",
            "Epoch 19/150\n",
            "34/34 [==============================] - 0s 4ms/step - loss: 6643.7358 - mae: 6643.7358 - val_loss: 6423.3457 - val_mae: 6423.3457\n",
            "Epoch 20/150\n",
            "34/34 [==============================] - 0s 3ms/step - loss: 6623.7339 - mae: 6623.7339 - val_loss: 6411.2324 - val_mae: 6411.2324\n",
            "Epoch 21/150\n",
            "34/34 [==============================] - 0s 4ms/step - loss: 6604.6890 - mae: 6604.6890 - val_loss: 6397.8403 - val_mae: 6397.8403\n",
            "Epoch 22/150\n",
            "34/34 [==============================] - 0s 3ms/step - loss: 6603.3374 - mae: 6603.3374 - val_loss: 6398.8208 - val_mae: 6398.8208\n",
            "Epoch 23/150\n",
            "34/34 [==============================] - 0s 4ms/step - loss: 6590.2183 - mae: 6590.2183 - val_loss: 6377.0601 - val_mae: 6377.0601\n",
            "Epoch 24/150\n",
            "34/34 [==============================] - 0s 4ms/step - loss: 6582.3823 - mae: 6582.3823 - val_loss: 6355.5771 - val_mae: 6355.5771\n",
            "Epoch 25/150\n",
            "34/34 [==============================] - 0s 4ms/step - loss: 6555.5757 - mae: 6555.5757 - val_loss: 6342.5742 - val_mae: 6342.5742\n",
            "Epoch 26/150\n",
            "34/34 [==============================] - 0s 4ms/step - loss: 6552.0132 - mae: 6552.0132 - val_loss: 6373.1860 - val_mae: 6373.1860\n",
            "Epoch 27/150\n",
            "34/34 [==============================] - 0s 4ms/step - loss: 6543.4204 - mae: 6543.4204 - val_loss: 6317.9795 - val_mae: 6317.9795\n",
            "Epoch 28/150\n",
            "34/34 [==============================] - 0s 4ms/step - loss: 6498.2378 - mae: 6498.2378 - val_loss: 6298.3374 - val_mae: 6298.3374\n",
            "Epoch 29/150\n",
            "34/34 [==============================] - 0s 4ms/step - loss: 6484.4492 - mae: 6484.4492 - val_loss: 6270.7983 - val_mae: 6270.7983\n",
            "Epoch 30/150\n",
            "34/34 [==============================] - 0s 4ms/step - loss: 6481.5269 - mae: 6481.5269 - val_loss: 6254.8442 - val_mae: 6254.8442\n",
            "Epoch 31/150\n",
            "34/34 [==============================] - 0s 4ms/step - loss: 6458.6680 - mae: 6458.6680 - val_loss: 6282.9028 - val_mae: 6282.9028\n",
            "Epoch 32/150\n",
            "34/34 [==============================] - 0s 4ms/step - loss: 6450.2085 - mae: 6450.2085 - val_loss: 6230.0337 - val_mae: 6230.0337\n",
            "Epoch 33/150\n",
            "34/34 [==============================] - 0s 3ms/step - loss: 6426.3052 - mae: 6426.3052 - val_loss: 6200.1382 - val_mae: 6200.1382\n",
            "Epoch 34/150\n",
            "34/34 [==============================] - 0s 3ms/step - loss: 6396.0903 - mae: 6396.0903 - val_loss: 6169.6104 - val_mae: 6169.6104\n",
            "Epoch 35/150\n",
            "34/34 [==============================] - 0s 3ms/step - loss: 6362.8394 - mae: 6362.8394 - val_loss: 6153.5898 - val_mae: 6153.5898\n",
            "Epoch 36/150\n",
            "34/34 [==============================] - 0s 4ms/step - loss: 6367.6934 - mae: 6367.6934 - val_loss: 6110.0332 - val_mae: 6110.0332\n",
            "Epoch 37/150\n",
            "34/34 [==============================] - 0s 4ms/step - loss: 6310.9326 - mae: 6310.9326 - val_loss: 6076.7441 - val_mae: 6076.7441\n",
            "Epoch 38/150\n",
            "34/34 [==============================] - 0s 3ms/step - loss: 6262.3101 - mae: 6262.3101 - val_loss: 6040.8301 - val_mae: 6040.8301\n",
            "Epoch 39/150\n",
            "34/34 [==============================] - 0s 4ms/step - loss: 6229.7075 - mae: 6229.7075 - val_loss: 5994.1401 - val_mae: 5994.1401\n",
            "Epoch 40/150\n",
            "34/34 [==============================] - 0s 4ms/step - loss: 6185.1191 - mae: 6185.1191 - val_loss: 5975.8921 - val_mae: 5975.8921\n",
            "Epoch 41/150\n",
            "34/34 [==============================] - 0s 3ms/step - loss: 6130.6685 - mae: 6130.6685 - val_loss: 5893.2173 - val_mae: 5893.2173\n",
            "Epoch 42/150\n",
            "34/34 [==============================] - 0s 4ms/step - loss: 6090.2026 - mae: 6090.2026 - val_loss: 5837.9077 - val_mae: 5837.9077\n",
            "Epoch 43/150\n",
            "34/34 [==============================] - 0s 4ms/step - loss: 6023.1826 - mae: 6023.1826 - val_loss: 5774.1953 - val_mae: 5774.1953\n",
            "Epoch 44/150\n",
            "34/34 [==============================] - 0s 4ms/step - loss: 6000.9756 - mae: 6000.9756 - val_loss: 5716.6396 - val_mae: 5716.6396\n",
            "Epoch 45/150\n",
            "34/34 [==============================] - 0s 4ms/step - loss: 5899.2300 - mae: 5899.2300 - val_loss: 5653.4561 - val_mae: 5653.4561\n",
            "Epoch 46/150\n",
            "34/34 [==============================] - 0s 4ms/step - loss: 5790.8862 - mae: 5790.8862 - val_loss: 5579.1138 - val_mae: 5579.1138\n",
            "Epoch 47/150\n",
            "34/34 [==============================] - 0s 4ms/step - loss: 5688.7236 - mae: 5688.7236 - val_loss: 5512.3071 - val_mae: 5512.3071\n",
            "Epoch 48/150\n",
            "34/34 [==============================] - 0s 4ms/step - loss: 5584.1821 - mae: 5584.1821 - val_loss: 5368.8745 - val_mae: 5368.8745\n",
            "Epoch 49/150\n",
            "34/34 [==============================] - 0s 4ms/step - loss: 5437.7290 - mae: 5437.7290 - val_loss: 5245.2769 - val_mae: 5245.2769\n",
            "Epoch 50/150\n",
            "34/34 [==============================] - 0s 4ms/step - loss: 5321.9287 - mae: 5321.9287 - val_loss: 5084.2710 - val_mae: 5084.2710\n",
            "Epoch 51/150\n",
            "34/34 [==============================] - 0s 4ms/step - loss: 5110.6230 - mae: 5110.6230 - val_loss: 4908.6260 - val_mae: 4908.6260\n",
            "Epoch 52/150\n",
            "34/34 [==============================] - 0s 4ms/step - loss: 4875.8765 - mae: 4875.8765 - val_loss: 4587.6802 - val_mae: 4587.6802\n",
            "Epoch 53/150\n",
            "34/34 [==============================] - 0s 4ms/step - loss: 4548.5312 - mae: 4548.5312 - val_loss: 4512.5308 - val_mae: 4512.5308\n",
            "Epoch 54/150\n",
            "34/34 [==============================] - 0s 4ms/step - loss: 4257.3491 - mae: 4257.3491 - val_loss: 4014.3140 - val_mae: 4014.3140\n",
            "Epoch 55/150\n",
            "34/34 [==============================] - 0s 4ms/step - loss: 3997.1711 - mae: 3997.1711 - val_loss: 3952.2939 - val_mae: 3952.2939\n",
            "Epoch 56/150\n",
            "34/34 [==============================] - 0s 5ms/step - loss: 3810.9314 - mae: 3810.9314 - val_loss: 3661.3840 - val_mae: 3661.3840\n",
            "Epoch 57/150\n",
            "34/34 [==============================] - 0s 5ms/step - loss: 3681.3345 - mae: 3681.3345 - val_loss: 3461.5322 - val_mae: 3461.5322\n",
            "Epoch 58/150\n",
            "34/34 [==============================] - 0s 5ms/step - loss: 3506.2036 - mae: 3506.2036 - val_loss: 3330.6387 - val_mae: 3330.6387\n",
            "Epoch 59/150\n",
            "34/34 [==============================] - 0s 5ms/step - loss: 3410.4915 - mae: 3410.4915 - val_loss: 3385.0374 - val_mae: 3385.0374\n",
            "Epoch 60/150\n",
            "34/34 [==============================] - 0s 5ms/step - loss: 3269.8765 - mae: 3269.8765 - val_loss: 3098.3264 - val_mae: 3098.3264\n",
            "Epoch 61/150\n",
            "34/34 [==============================] - 0s 5ms/step - loss: 3130.2019 - mae: 3130.2019 - val_loss: 3233.0605 - val_mae: 3233.0605\n",
            "Epoch 62/150\n",
            "34/34 [==============================] - 0s 5ms/step - loss: 3011.5684 - mae: 3011.5684 - val_loss: 2917.8918 - val_mae: 2917.8918\n",
            "Epoch 63/150\n",
            "34/34 [==============================] - 0s 5ms/step - loss: 2830.0195 - mae: 2830.0195 - val_loss: 2825.1216 - val_mae: 2825.1216\n",
            "Epoch 64/150\n",
            "34/34 [==============================] - 0s 5ms/step - loss: 2742.8923 - mae: 2742.8923 - val_loss: 2767.9507 - val_mae: 2767.9507\n",
            "Epoch 65/150\n",
            "34/34 [==============================] - 0s 7ms/step - loss: 2675.5112 - mae: 2675.5112 - val_loss: 2691.8062 - val_mae: 2691.8062\n",
            "Epoch 66/150\n",
            "34/34 [==============================] - 0s 5ms/step - loss: 2579.4182 - mae: 2579.4182 - val_loss: 2639.6865 - val_mae: 2639.6865\n",
            "Epoch 67/150\n",
            "34/34 [==============================] - 0s 7ms/step - loss: 2574.2708 - mae: 2574.2708 - val_loss: 2565.1018 - val_mae: 2565.1018\n",
            "Epoch 68/150\n",
            "34/34 [==============================] - 0s 7ms/step - loss: 2566.8599 - mae: 2566.8599 - val_loss: 2586.1108 - val_mae: 2586.1108\n",
            "Epoch 69/150\n",
            "34/34 [==============================] - 0s 6ms/step - loss: 2471.1482 - mae: 2471.1482 - val_loss: 2570.7964 - val_mae: 2570.7964\n",
            "Epoch 70/150\n",
            "34/34 [==============================] - 0s 6ms/step - loss: 2502.1609 - mae: 2502.1609 - val_loss: 2622.5459 - val_mae: 2622.5459\n",
            "Epoch 71/150\n",
            "34/34 [==============================] - 0s 6ms/step - loss: 2465.0349 - mae: 2465.0349 - val_loss: 2511.7979 - val_mae: 2511.7979\n",
            "Epoch 72/150\n",
            "34/34 [==============================] - 0s 5ms/step - loss: 2420.8359 - mae: 2420.8359 - val_loss: 2482.3103 - val_mae: 2482.3103\n",
            "Epoch 73/150\n",
            "34/34 [==============================] - 0s 7ms/step - loss: 2391.2686 - mae: 2391.2686 - val_loss: 2447.2898 - val_mae: 2447.2898\n",
            "Epoch 74/150\n",
            "34/34 [==============================] - 0s 5ms/step - loss: 2492.7717 - mae: 2492.7717 - val_loss: 2507.3384 - val_mae: 2507.3384\n",
            "Epoch 75/150\n",
            "34/34 [==============================] - 0s 7ms/step - loss: 2507.9075 - mae: 2507.9075 - val_loss: 2414.2947 - val_mae: 2414.2947\n",
            "Epoch 76/150\n",
            "34/34 [==============================] - 0s 7ms/step - loss: 2369.8774 - mae: 2369.8774 - val_loss: 2395.4556 - val_mae: 2395.4556\n",
            "Epoch 77/150\n",
            "34/34 [==============================] - 0s 6ms/step - loss: 2328.6702 - mae: 2328.6702 - val_loss: 2452.7473 - val_mae: 2452.7473\n",
            "Epoch 78/150\n",
            "34/34 [==============================] - 0s 4ms/step - loss: 2355.0417 - mae: 2355.0417 - val_loss: 2452.1316 - val_mae: 2452.1316\n",
            "Epoch 79/150\n",
            "34/34 [==============================] - 0s 3ms/step - loss: 2525.8992 - mae: 2525.8992 - val_loss: 2547.9126 - val_mae: 2547.9126\n",
            "Epoch 80/150\n",
            "34/34 [==============================] - 0s 5ms/step - loss: 2347.6025 - mae: 2347.6025 - val_loss: 2343.6709 - val_mae: 2343.6709\n",
            "Epoch 81/150\n",
            "34/34 [==============================] - 0s 4ms/step - loss: 2336.8367 - mae: 2336.8367 - val_loss: 2447.3525 - val_mae: 2447.3525\n",
            "Epoch 82/150\n",
            "34/34 [==============================] - 0s 4ms/step - loss: 2293.9199 - mae: 2293.9199 - val_loss: 2320.8909 - val_mae: 2320.8909\n",
            "Epoch 83/150\n",
            "34/34 [==============================] - 0s 4ms/step - loss: 2306.6411 - mae: 2306.6411 - val_loss: 2525.6230 - val_mae: 2525.6230\n",
            "Epoch 84/150\n",
            "34/34 [==============================] - 0s 4ms/step - loss: 2350.9155 - mae: 2350.9155 - val_loss: 2312.1167 - val_mae: 2312.1167\n",
            "Epoch 85/150\n",
            "34/34 [==============================] - 0s 4ms/step - loss: 2295.8767 - mae: 2295.8767 - val_loss: 2435.1357 - val_mae: 2435.1357\n",
            "Epoch 86/150\n",
            "34/34 [==============================] - 0s 4ms/step - loss: 2316.9565 - mae: 2316.9565 - val_loss: 2424.3103 - val_mae: 2424.3103\n",
            "Epoch 87/150\n",
            "34/34 [==============================] - 0s 4ms/step - loss: 2290.7764 - mae: 2290.7764 - val_loss: 2293.0347 - val_mae: 2293.0347\n",
            "Epoch 88/150\n",
            "34/34 [==============================] - 0s 4ms/step - loss: 2245.3940 - mae: 2245.3940 - val_loss: 2274.1589 - val_mae: 2274.1589\n",
            "Epoch 89/150\n",
            "34/34 [==============================] - 0s 4ms/step - loss: 2250.2529 - mae: 2250.2529 - val_loss: 2429.0618 - val_mae: 2429.0618\n",
            "Epoch 90/150\n",
            "34/34 [==============================] - 0s 4ms/step - loss: 2315.4773 - mae: 2315.4773 - val_loss: 2293.3298 - val_mae: 2293.3298\n",
            "Epoch 91/150\n",
            "34/34 [==============================] - 0s 4ms/step - loss: 2269.0168 - mae: 2269.0168 - val_loss: 2277.6016 - val_mae: 2277.6016\n",
            "Epoch 92/150\n",
            "34/34 [==============================] - 0s 4ms/step - loss: 2265.1653 - mae: 2265.1653 - val_loss: 2341.7791 - val_mae: 2341.7791\n",
            "Epoch 93/150\n",
            "34/34 [==============================] - 0s 4ms/step - loss: 2257.1184 - mae: 2257.1184 - val_loss: 2330.6738 - val_mae: 2330.6738\n",
            "Epoch 94/150\n",
            "34/34 [==============================] - 0s 3ms/step - loss: 2282.0635 - mae: 2282.0635 - val_loss: 2262.4817 - val_mae: 2262.4817\n",
            "Epoch 95/150\n",
            "34/34 [==============================] - 0s 4ms/step - loss: 2232.6016 - mae: 2232.6016 - val_loss: 2271.0037 - val_mae: 2271.0037\n",
            "Epoch 96/150\n",
            "34/34 [==============================] - 0s 4ms/step - loss: 2237.2007 - mae: 2237.2007 - val_loss: 2418.6797 - val_mae: 2418.6797\n",
            "Epoch 97/150\n",
            "34/34 [==============================] - 0s 4ms/step - loss: 2319.8679 - mae: 2319.8679 - val_loss: 2322.9514 - val_mae: 2322.9514\n",
            "Epoch 98/150\n",
            "34/34 [==============================] - 0s 4ms/step - loss: 2290.3992 - mae: 2290.3992 - val_loss: 2242.1960 - val_mae: 2242.1960\n",
            "Epoch 99/150\n",
            "34/34 [==============================] - 0s 4ms/step - loss: 2237.1484 - mae: 2237.1484 - val_loss: 2294.7356 - val_mae: 2294.7356\n",
            "Epoch 100/150\n",
            "34/34 [==============================] - 0s 4ms/step - loss: 2252.7227 - mae: 2252.7227 - val_loss: 2324.4875 - val_mae: 2324.4875\n",
            "Epoch 101/150\n",
            "34/34 [==============================] - 0s 4ms/step - loss: 2270.7419 - mae: 2270.7419 - val_loss: 2510.7305 - val_mae: 2510.7305\n",
            "Epoch 102/150\n",
            "34/34 [==============================] - 0s 3ms/step - loss: 2298.5789 - mae: 2298.5789 - val_loss: 2335.6641 - val_mae: 2335.6641\n",
            "Epoch 103/150\n",
            "34/34 [==============================] - 0s 4ms/step - loss: 2319.4675 - mae: 2319.4675 - val_loss: 2364.5979 - val_mae: 2364.5979\n",
            "Epoch 104/150\n",
            "34/34 [==============================] - 0s 5ms/step - loss: 2230.0718 - mae: 2230.0718 - val_loss: 2235.8123 - val_mae: 2235.8123\n",
            "Epoch 105/150\n",
            "34/34 [==============================] - 0s 4ms/step - loss: 2209.4675 - mae: 2209.4675 - val_loss: 2233.0244 - val_mae: 2233.0244\n",
            "Epoch 106/150\n",
            "34/34 [==============================] - 0s 4ms/step - loss: 2235.9658 - mae: 2235.9658 - val_loss: 2309.7471 - val_mae: 2309.7471\n",
            "Epoch 107/150\n",
            "34/34 [==============================] - 0s 4ms/step - loss: 2213.4973 - mae: 2213.4973 - val_loss: 2288.7900 - val_mae: 2288.7900\n",
            "Epoch 108/150\n",
            "34/34 [==============================] - 0s 4ms/step - loss: 2230.7681 - mae: 2230.7681 - val_loss: 2403.0889 - val_mae: 2403.0889\n",
            "Epoch 109/150\n",
            "34/34 [==============================] - 0s 3ms/step - loss: 2279.3994 - mae: 2279.3994 - val_loss: 2480.8525 - val_mae: 2480.8525\n",
            "Epoch 110/150\n",
            "34/34 [==============================] - 0s 4ms/step - loss: 2262.1938 - mae: 2262.1938 - val_loss: 2196.4990 - val_mae: 2196.4990\n",
            "Epoch 111/150\n",
            "34/34 [==============================] - 0s 4ms/step - loss: 2225.0842 - mae: 2225.0842 - val_loss: 2241.2878 - val_mae: 2241.2878\n",
            "Epoch 112/150\n",
            "34/34 [==============================] - 0s 4ms/step - loss: 2191.8130 - mae: 2191.8130 - val_loss: 2219.3113 - val_mae: 2219.3113\n",
            "Epoch 113/150\n",
            "34/34 [==============================] - 0s 4ms/step - loss: 2196.8623 - mae: 2196.8623 - val_loss: 2183.7964 - val_mae: 2183.7964\n",
            "Epoch 114/150\n",
            "34/34 [==============================] - 0s 4ms/step - loss: 2223.4380 - mae: 2223.4380 - val_loss: 2247.4192 - val_mae: 2247.4192\n",
            "Epoch 115/150\n",
            "34/34 [==============================] - 0s 4ms/step - loss: 2195.7244 - mae: 2195.7244 - val_loss: 2258.4712 - val_mae: 2258.4712\n",
            "Epoch 116/150\n",
            "34/34 [==============================] - 0s 4ms/step - loss: 2228.5737 - mae: 2228.5740 - val_loss: 2228.2935 - val_mae: 2228.2935\n",
            "Epoch 117/150\n",
            "34/34 [==============================] - 0s 4ms/step - loss: 2216.8503 - mae: 2216.8503 - val_loss: 2314.3523 - val_mae: 2314.3523\n",
            "Epoch 118/150\n",
            "34/34 [==============================] - 0s 4ms/step - loss: 2240.8445 - mae: 2240.8445 - val_loss: 2198.6711 - val_mae: 2198.6711\n",
            "Epoch 119/150\n",
            "34/34 [==============================] - 0s 4ms/step - loss: 2201.2358 - mae: 2201.2358 - val_loss: 2137.0154 - val_mae: 2137.0154\n",
            "Epoch 120/150\n",
            "34/34 [==============================] - 0s 4ms/step - loss: 2206.4116 - mae: 2206.4116 - val_loss: 2368.1404 - val_mae: 2368.1404\n",
            "Epoch 121/150\n",
            "34/34 [==============================] - 0s 4ms/step - loss: 2165.8635 - mae: 2165.8635 - val_loss: 2135.4099 - val_mae: 2135.4099\n",
            "Epoch 122/150\n",
            "34/34 [==============================] - 0s 3ms/step - loss: 2173.8181 - mae: 2173.8181 - val_loss: 2205.1299 - val_mae: 2205.1299\n",
            "Epoch 123/150\n",
            "34/34 [==============================] - 0s 4ms/step - loss: 2214.7583 - mae: 2214.7583 - val_loss: 2273.3020 - val_mae: 2273.3020\n",
            "Epoch 124/150\n",
            "34/34 [==============================] - 0s 4ms/step - loss: 2214.5093 - mae: 2214.5093 - val_loss: 2233.0906 - val_mae: 2233.0906\n",
            "Epoch 125/150\n",
            "34/34 [==============================] - 0s 4ms/step - loss: 2200.0688 - mae: 2200.0688 - val_loss: 2138.7988 - val_mae: 2138.7988\n",
            "Epoch 126/150\n",
            "34/34 [==============================] - 0s 4ms/step - loss: 2128.5815 - mae: 2128.5815 - val_loss: 2337.7100 - val_mae: 2337.7102\n",
            "Epoch 127/150\n",
            "34/34 [==============================] - 0s 4ms/step - loss: 2254.6240 - mae: 2254.6240 - val_loss: 2135.7146 - val_mae: 2135.7146\n",
            "Epoch 128/150\n",
            "34/34 [==============================] - 0s 4ms/step - loss: 2188.0347 - mae: 2188.0347 - val_loss: 2195.3818 - val_mae: 2195.3818\n",
            "Epoch 129/150\n",
            "34/34 [==============================] - 0s 4ms/step - loss: 2292.9890 - mae: 2292.9890 - val_loss: 2306.9204 - val_mae: 2306.9204\n",
            "Epoch 130/150\n",
            "34/34 [==============================] - 0s 4ms/step - loss: 2223.8000 - mae: 2223.8000 - val_loss: 2152.8022 - val_mae: 2152.8022\n",
            "Epoch 131/150\n",
            "34/34 [==============================] - 0s 3ms/step - loss: 2173.1846 - mae: 2173.1846 - val_loss: 2165.2534 - val_mae: 2165.2534\n",
            "Epoch 132/150\n",
            "34/34 [==============================] - 0s 4ms/step - loss: 2181.5461 - mae: 2181.5461 - val_loss: 2190.4709 - val_mae: 2190.4709\n",
            "Epoch 133/150\n",
            "34/34 [==============================] - 0s 4ms/step - loss: 2171.7312 - mae: 2171.7312 - val_loss: 2218.8835 - val_mae: 2218.8835\n",
            "Epoch 134/150\n",
            "34/34 [==============================] - 0s 4ms/step - loss: 2256.4119 - mae: 2256.4119 - val_loss: 2130.4988 - val_mae: 2130.4988\n",
            "Epoch 135/150\n",
            "34/34 [==============================] - 0s 4ms/step - loss: 2147.6104 - mae: 2147.6104 - val_loss: 2127.0496 - val_mae: 2127.0496\n",
            "Epoch 136/150\n",
            "34/34 [==============================] - 0s 4ms/step - loss: 2224.3770 - mae: 2224.3770 - val_loss: 2142.5542 - val_mae: 2142.5542\n",
            "Epoch 137/150\n",
            "34/34 [==============================] - 0s 4ms/step - loss: 2192.1838 - mae: 2192.1838 - val_loss: 2242.2046 - val_mae: 2242.2046\n",
            "Epoch 138/150\n",
            "34/34 [==============================] - 0s 4ms/step - loss: 2298.0632 - mae: 2298.0632 - val_loss: 2266.3579 - val_mae: 2266.3579\n",
            "Epoch 139/150\n",
            "34/34 [==============================] - 0s 4ms/step - loss: 2233.2517 - mae: 2233.2517 - val_loss: 2216.2471 - val_mae: 2216.2471\n",
            "Epoch 140/150\n",
            "34/34 [==============================] - 0s 4ms/step - loss: 2205.5537 - mae: 2205.5537 - val_loss: 2119.9294 - val_mae: 2119.9294\n",
            "Epoch 141/150\n",
            "34/34 [==============================] - 0s 4ms/step - loss: 2208.2798 - mae: 2208.2798 - val_loss: 2262.1780 - val_mae: 2262.1780\n",
            "Epoch 142/150\n",
            "34/34 [==============================] - 0s 4ms/step - loss: 2185.9263 - mae: 2185.9263 - val_loss: 2121.9053 - val_mae: 2121.9053\n",
            "Epoch 143/150\n",
            "34/34 [==============================] - 0s 4ms/step - loss: 2141.3394 - mae: 2141.3394 - val_loss: 2122.4504 - val_mae: 2122.4504\n",
            "Epoch 144/150\n",
            "34/34 [==============================] - 0s 4ms/step - loss: 2234.2439 - mae: 2234.2439 - val_loss: 2111.9954 - val_mae: 2111.9954\n",
            "Epoch 145/150\n",
            "34/34 [==============================] - 0s 4ms/step - loss: 2169.1553 - mae: 2169.1553 - val_loss: 2164.5562 - val_mae: 2164.5562\n",
            "Epoch 146/150\n",
            "34/34 [==============================] - 0s 4ms/step - loss: 2171.6497 - mae: 2171.6497 - val_loss: 2115.9878 - val_mae: 2115.9878\n",
            "Epoch 147/150\n",
            "34/34 [==============================] - 0s 4ms/step - loss: 2215.7571 - mae: 2215.7571 - val_loss: 2105.0554 - val_mae: 2105.0554\n",
            "Epoch 148/150\n",
            "34/34 [==============================] - 0s 4ms/step - loss: 2192.0798 - mae: 2192.0798 - val_loss: 2087.4304 - val_mae: 2087.4304\n",
            "Epoch 149/150\n",
            "34/34 [==============================] - 0s 5ms/step - loss: 2180.0203 - mae: 2180.0203 - val_loss: 2161.8699 - val_mae: 2161.8699\n",
            "Epoch 150/150\n",
            "34/34 [==============================] - 0s 6ms/step - loss: 2140.7708 - mae: 2140.7708 - val_loss: 2113.3438 - val_mae: 2113.3438\n"
          ]
        }
      ]
    },
    {
      "cell_type": "code",
      "source": [
        "# Visulaizing Loss\n",
        "plt.plot(history.history['loss'])\n",
        "plt.plot(history.history['val_loss'])\n",
        "\n",
        "plt.title('model loss')\n",
        "plt.ylabel('loss')\n",
        "plt.xlabel('epoch')\n",
        "\n",
        "plt.legend(['training data', 'validation data'], loc = 'lower right')"
      ],
      "metadata": {
        "id": "z4ISdTckZyT-",
        "colab": {
          "base_uri": "https://localhost:8080/",
          "height": 497
        },
        "outputId": "787827f2-e430-48fb-92af-a5416ec6d24e"
      },
      "execution_count": 34,
      "outputs": [
        {
          "output_type": "execute_result",
          "data": {
            "text/plain": [
              "<matplotlib.legend.Legend at 0x7ef1642dba60>"
            ]
          },
          "metadata": {},
          "execution_count": 34
        },
        {
          "output_type": "display_data",
          "data": {
            "text/plain": [
              "<Figure size 640x480 with 1 Axes>"
            ],
            "image/png": "[encoded data removed]"
          },
          "metadata": {}
        }
      ]
    },
    {
      "cell_type": "code",
      "source": [
        "Y_pred = model.predict(X_test)"
      ],
      "metadata": {
        "id": "6bCf-FXPbR05",
        "colab": {
          "base_uri": "https://localhost:8080/"
        },
        "outputId": "64355a95-241d-44a8-9b51-2f1b6758c52a"
      },
      "execution_count": 35,
      "outputs": [
        {
          "output_type": "stream",
          "name": "stdout",
          "text": [
            "9/9 [==============================] - 0s 2ms/step\n"
          ]
        }
      ]
    },
    {
      "cell_type": "code",
      "source": [
        "print(Y_pred.shape)\n",
        "print(Y_pred[0])"
      ],
      "metadata": {
        "id": "GQlw_wq2bfpC",
        "colab": {
          "base_uri": "https://localhost:8080/"
        },
        "outputId": "adf1d7a6-9bda-4175-e7c5-dae4bb2eb37c"
      },
      "execution_count": 36,
      "outputs": [
        {
          "output_type": "stream",
          "name": "stdout",
          "text": [
            "(268, 1)\n",
            "[2215.9253]\n"
          ]
        }
      ]
    },
    {
      "cell_type": "markdown",
      "source": [
        "# BUILDING THE PREDICTIVE SYSTEM"
      ],
      "metadata": {
        "id": "piXJrQHXbtuq"
      }
    },
    {
      "cell_type": "code",
      "source": [
        "input_data = (31,1,25.74,0,1,0)\n",
        "\n",
        "# changing input_data to a numpy array\n",
        "input_data_as_numpy_array = np.asarray(input_data)\n",
        "\n",
        "# reshape the array\n",
        "input_data_reshaped = input_data_as_numpy_array.reshape(1,-1)\n",
        "\n",
        "prediction = model.predict(input_data_reshaped)\n",
        "print(prediction)\n",
        "\n",
        "print('The insurance cost is USD ', prediction[0])"
      ],
      "metadata": {
        "id": "6_0l1ZrFbs-S",
        "colab": {
          "base_uri": "https://localhost:8080/"
        },
        "outputId": "f15481c0-1648-4d29-b644-67077452e682"
      },
      "execution_count": 37,
      "outputs": [
        {
          "output_type": "stream",
          "name": "stdout",
          "text": [
            "1/1 [==============================] - 0s 84ms/step\n",
            "[[3910.824]]\n",
            "The insurance cost is USD  [3910.824]\n"
          ]
        }
      ]
    }
  ]
}